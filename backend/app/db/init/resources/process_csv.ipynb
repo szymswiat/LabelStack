{
 "cells": [
  {
   "cell_type": "code",
   "execution_count": 13,
   "metadata": {
    "collapsed": true,
    "pycharm": {
     "name": "#%%\n"
    }
   },
   "outputs": [],
   "source": [
    "import pandas as pd\n",
    "\n",
    "df = pd.read_csv('dicom_labels_raw.csv').dropna()\n",
    "df = df.drop(columns=['Opis z xml', 'Suma', 'Done'])\n",
    "df['nr dicom'] = df['nr dicom'].map(lambda x: int(x))\n",
    "df = df.loc[:172]\n",
    "df.to_csv('dicom_labels.csv', index=False)"
   ]
  },
  {
   "cell_type": "code",
   "execution_count": 21,
   "metadata": {
    "collapsed": false,
    "pycharm": {
     "name": "#%%\n"
    }
   },
   "outputs": [],
   "source": [
    "from pathlib import Path\n",
    "import pandas as pd\n",
    "\n",
    "dicoms_df = pd.read_csv('dicoms_raw.csv')\n",
    "dicom_labels_df = pd.read_csv('dicom_labels.csv')\n",
    "\n",
    "dicoms_df['dcm_index'] = dicoms_df['img_path'].map(lambda x: int(Path(x).stem.split('_')[0]))\n",
    "dicoms_df['name'] = dicoms_df['img_path'].map(lambda x: Path(x).stem)\n",
    "dicoms_df = pd.merge(dicoms_df, dicom_labels_df, left_on=['dcm_index'], right_on=['nr dicom'])\n",
    "\n",
    "dicoms_df.to_csv('dicoms.csv', index=False)"
   ]
  }
 ],
 "metadata": {
  "kernelspec": {
   "display_name": ".venv",
   "language": "python",
   "name": "python3"
  },
  "language_info": {
   "codemirror_mode": {
    "name": "ipython",
    "version": 2
   },
   "file_extension": ".py",
   "mimetype": "text/x-python",
   "name": "python",
   "nbconvert_exporter": "python",
   "pygments_lexer": "ipython2",
   "version": "3.10.4"
  },
  "vscode": {
   "interpreter": {
    "hash": "7e7500aadfa402a19bbad37108023d08d755a8f96c2d4e812c125414dadeb706"
   }
  }
 },
 "nbformat": 4,
 "nbformat_minor": 0
}
